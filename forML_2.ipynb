{
 "cells": [
  {
   "cell_type": "code",
   "execution_count": null,
   "id": "a5e99994",
   "metadata": {},
   "outputs": [],
   "source": [
    "import pandas as pd\n",
    "from sklearn.tree import DecisionTreeClassifier\n",
    "\n",
    "temp     = float(input(\"enter a temperature(min = 20): \"))\n",
    "humidity = float(input(\"enter the humidity%: \"))\n",
    "TVOC     = int(input(\"enter the TVOC value: \"))\n",
    "eco2     = int(input(\"enter the co2 in ppm(min = 400): \"))\n",
    "raw_h2   = int(input(\"enter the raw h2 value(min = 12306): \"))\n",
    "raw_eth  = int(input(\"enter the raw ethanol value(min = 18520): \"))\n",
    "pressure = float(input(\"enter pressure observed(min=939): \"))\n",
    "PM1_0    = float(input(\"enter the pm1.0 value: \"))\n",
    "PM2_5    = float(input(\"enter the pm2.5 value: \"))\n",
    "NC0_5    = float(input(\"enter the nc0.5 value: \"))\n",
    "NC1_0    = float(input(\"enter the nc1.0 value: \"))\n",
    "NC2_5    = float(input(\"enter the nc2.5 value: \"))\n",
    "CNT      = float(input(\"enter the CNT value: \"))\n",
    "\n",
    "\n",
    "smoke_data = pd.read_csv('smoke_detection_iot_2.csv')\n",
    "X = smoke_data.drop(columns=['Fire Alarm'])\n",
    "y = smoke_data['Fire Alarm']\n",
    "\n",
    "model = DecisionTreeClassifier()\n",
    "model.fit(X,y)\n",
    "prediction = model.predict([ [temp,humidity,TVOC,eco2,raw_h2,raw_eth,pressure,PM1_0,PM2_5,NC0_5,NC1_0,NC2_5,CNT] ])\n",
    "prediction"
   ]
  }
 ],
 "metadata": {
  "kernelspec": {
   "display_name": "Python 3 (ipykernel)",
   "language": "python",
   "name": "python3"
  },
  "language_info": {
   "codemirror_mode": {
    "name": "ipython",
    "version": 3
   },
   "file_extension": ".py",
   "mimetype": "text/x-python",
   "name": "python",
   "nbconvert_exporter": "python",
   "pygments_lexer": "ipython3",
   "version": "3.9.7"
  }
 },
 "nbformat": 4,
 "nbformat_minor": 5
}
